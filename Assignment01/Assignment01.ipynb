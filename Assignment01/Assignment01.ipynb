{
 "cells": [
  {
   "cell_type": "markdown",
   "metadata": {},
   "source": [
    "# Graded Assignment 01: Titanic: Machine Learning from Disaster\n",
    "2017-05-17\n",
    "\n",
    "(c) Marisa Nest 2017"
   ]
  },
  {
   "cell_type": "markdown",
   "metadata": {},
   "source": [
    "## Imports"
   ]
  },
  {
   "cell_type": "code",
   "execution_count": 2,
   "metadata": {
    "collapsed": false
   },
   "outputs": [],
   "source": [
    "import csv\n",
    "import re\n",
    "import pandas as pd\n",
    "from pandas import *\n",
    "import numpy\n",
    "from numpy import *\n",
    "import math\n",
    "%matplotlib inline\n",
    "import matplotlib.pyplot as plt\n",
    "from random import randint"
   ]
  },
  {
   "cell_type": "markdown",
   "metadata": {},
   "source": [
    "## Feature-Extraktion\n",
    "\n",
    "Als erstes wird sich mit der Feature-Extraktion beschäftigt, bei der es darum geht, dem Datensatz die Eigenschaften zu entnehmen, die dafür einscheident sind, ob eine Instanze einer bestimmten Klasse (0 oder 1, bzw. überlebt oder nicht überlebt) zugehört oder nicht."
   ]
  },
  {
   "cell_type": "markdown",
   "metadata": {},
   "source": [
    "### Funktionen zur Feature-Extraktion"
   ]
  },
  {
   "cell_type": "markdown",
   "metadata": {},
   "source": [
    "**features**\n",
    "\n",
    "Die Funktion features extrahiert bestimmte Eigenschaften einer Instanze, die wichtig sind um zu bestimmen, welcher Klasse die Instanz zugehört. Dafür bekommt sie als Übergabeparamter eine Instanz (instance), von welcher die Eigenschaften extrahiert werden sollen und einen boolischen Wert (train), welcher besagt, ob es sich um eine Trainings-Instanz oder eine Test-Instanz handelt und somit die Klasse (0 oder 1, bzw. überlebt oder nicht überlebt) der Instanz mit extrahiert wird oder nicht.\n",
    "\n",
    "Folgende Features werden dabei extrahiert:\n",
    "* Pclass: Ticket-Klassse\n",
    "* Title: Titel\n",
    "* Rev: Kommt 'Rev.' im Namen vor\n",
    "* Jr: Kommt 'Jr' im Namen vor\n",
    "* Sex: Geschlecht\n",
    "* Age: Alter\n",
    "* SibSp: Anzahl von Geschwistern / Ehepartnern auf der Titanic \n",
    "* Parch: Anzahl von Kindern / Eltern auf der Titanic\n",
    "* SingleTicketNumber: Ist die Ticket-Nummer nur an eine Person vergeben worden \n",
    "* TicketPrefix: Ticket-Prefix\n",
    "* Fare: Ticket-Preis\n",
    "* Cabin: Kabine\n",
    "* Embarked: Hafen der Anbordnahme\n",
    "\n",
    "Das Feature SingleTicketNumber wurde im laufe der Bearbeitung der Aufgabe raus genommen, da dieses Feature nicht richtig extrahiert werden kann, da nicht alle vergebenen Ticket-Nummern bekannt sind und man somit nicht sicher sagen kann, ob eine Ticket-Nummer nur an eine Person vergeben wurde oder nicht. Dennoch wird es hier der Vollständigkeit halber mit aufgelistet."
   ]
  },
  {
   "cell_type": "code",
   "execution_count": 3,
   "metadata": {
    "collapsed": true
   },
   "outputs": [],
   "source": [
    "def features(passenger, train=False):\n",
    "    features = {}\n",
    "    features['Pclass'] = passenger['Pclass']\n",
    "    features['Title'] = getTitle(passenger['Name'])\n",
    "    features['Rev'] = 'Rev' in passenger['Name']\n",
    "    features['Jr'] = 'Jr' in passenger['Name']\n",
    "    features['Sex'] = passenger['Sex']\n",
    "    features['Age'] = getAgeClass(getAge(passenger['Age']))\n",
    "    features['SibSp'] = passenger['SibSp']\n",
    "    features['Parch'] = passenger['Parch']\n",
    "    #features['SingleTicketNumber'] = isSingleTicketNumber(passenger['Ticket'], ticket_number_df)\n",
    "    features['TicketPrefix'] = getTicketPrefix(passenger['Ticket'])\n",
    "    features['Fare'] = getFareClass(getFare(passenger['Fare']))\n",
    "    features['Cabin'] = getCabinPrefix(passenger['Cabin'])\n",
    "    features['Embarked'] = passenger['Embarked']\n",
    "    if train == True:\n",
    "        features['Class'] = int(passenger['Survived'])\n",
    "    \n",
    "    return features"
   ]
  },
  {
   "cell_type": "markdown",
   "metadata": {},
   "source": [
    "**randomFeatures**\n",
    "\n",
    "Die Funktion randomFeatures extrahiert bestimmte, zufällige Eigenschaften einer Instanze, die wichtig sind um zu bestimmen, welcher Klasse die Instanz zugehört.\n",
    "Dafür bekommt sie als Übergabeparamter eine Instanz (instance), von welcher die Eigenschaften extrahiert werden sollen, eine Reihe von zufälligen Zahlen (random_numbers), welche darüber entscheiden, welche Eigenschaften der Instanz ausgewählt werden und einen booloschen Wert (train), welcher besagt, ob es sich um eine Trainings-Instanz oder nicht handelt und somit die Klasse (0 oder 1, bzw. überlebt oder nicht überlebt) der Instanz mit extrahiert wird oder nicht.\n",
    "\n",
    "Folgende Features können dabei extrahiert werden:\n",
    "* Pclass: Ticket-Klassse\n",
    "* Title: Titel\n",
    "* Rev: Kommt 'Rev.' im Namen vor\n",
    "* Jr: Kommt 'Jr' im Namen vor\n",
    "* Sex: Geschlecht\n",
    "* Age: Alter\n",
    "* SibSp: Anzahl von Geschwistern / Ehepartnern auf der Titanic \n",
    "* Parch: Anzahl von Kindern / Eltern auf der Titanic\n",
    "* SingleTicketNumber: Ist die Ticket-Nummer nur an eine Person vergeben worden \n",
    "* TicketPrefix: Ticket-Prefix\n",
    "* Fare: Ticket-Preis\n",
    "* Cabin: Kabine\n",
    "* Embarked: Hafen der Anbordnahme\n",
    "\n",
    "Das Feature SingleTicketNumber wurde im laufe der Bearbeitung der Aufgabe raus genommen, da dieses Feature nicht richtig extrahiert werden kann, da nicht alle vergebenen Ticket-Nummern bekannt sind und man somit nicht sicher sagen kann, ob eine Ticket-Nummer nur an eine Person vergeben wurde oder nicht. Dennoch wird es hier der Vollständigkeit halber mit aufgelistet."
   ]
  },
  {
   "cell_type": "code",
   "execution_count": 4,
   "metadata": {
    "collapsed": true
   },
   "outputs": [],
   "source": [
    "def randomFeatures(instance, random_numbers, train=False):\n",
    "    features = {}\n",
    "    if train == True:\n",
    "        features['Class'] = int(instance['Survived'])\n",
    "    for random_number in random_numbers:\n",
    "        if random_number == 0:\n",
    "            features['Pclass'] = instance['Pclass']\n",
    "        elif random_number == 1:\n",
    "            features['Title'] = getTitle(instance['Name'])\n",
    "        elif random_number == 2:\n",
    "            features['Rev'] = 'Rev' in instance['Name']\n",
    "        elif random_number == 3:\n",
    "            features['Jr'] = 'Jr' in instance['Name']\n",
    "        elif random_number == 4:\n",
    "            features['Sex'] = instance['Sex']\n",
    "        elif random_number == 5:\n",
    "            features['Age'] = getAgeClass(getAge(instance['Age']))\n",
    "        elif random_number == 6:\n",
    "            features['SibSp'] = instance['SibSp']\n",
    "        elif random_number == 7:\n",
    "            features['Parch'] = instance['Parch']\n",
    "        #elif random_number == 8:\n",
    "            #features['SingleTicketNumber'] = isSingleTicketNumber(passenger['Ticket'], ticket_number_df)\n",
    "        elif random_number == 8:\n",
    "            features['TicketPrefix'] = getTicketPrefix(instance['Ticket'])\n",
    "        elif random_number == 9:\n",
    "            features['Fare'] = getFareClass(getFare(instance['Fare']))\n",
    "        elif random_number == 10:\n",
    "            features['Cabin'] = getCabinPrefix(instance['Cabin'])\n",
    "        elif random_number == 11:\n",
    "            features['Embarked'] = instance['Embarked']\n",
    "    return features"
   ]
  },
  {
   "cell_type": "markdown",
   "metadata": {},
   "source": [
    "### Hilfs-Funktionen zur Feature-Extraktion\n",
    "\n",
    "Die folgenden Funktionen dienen den beiden Funktionen features und randomFeatures als Hilfe, um die Features besser extrahieren zu können. "
   ]
  },
  {
   "cell_type": "markdown",
   "metadata": {},
   "source": [
    "**getTitle**\n",
    "\n",
    "Die Funktion getTitle bekommt einen String (name) übergeben und prüft, ob in dem String ein Titel vorkommt und gibt diesen Titel dann zurück. Mögliche Titel sind dabei 'Miss', 'Mrs', 'Master' und 'Mr'. Sollte keiner der Titel vorkommen wird 'none' zurückgegeben, sollte der String leer sein wird 'unknown' zurückgegeben. "
   ]
  },
  {
   "cell_type": "code",
   "execution_count": 5,
   "metadata": {
    "collapsed": true
   },
   "outputs": [],
   "source": [
    "def getTitle(name):\n",
    "    if name == '':\n",
    "        return 'unknown'\n",
    "    elif 'Miss' in name:\n",
    "        return 'Miss'\n",
    "    elif 'Mrs' in name:\n",
    "        return 'Mrs'\n",
    "    elif 'Master' in name:\n",
    "        return 'Master'\n",
    "    elif 'Mr' in name:\n",
    "        return 'Mr'\n",
    "    else:\n",
    "        return 'none'"
   ]
  },
  {
   "cell_type": "markdown",
   "metadata": {},
   "source": [
    "**getAge**\n",
    "\n",
    "Die Funktion getAge bekommt einen String (age) übergeben und prüft, ob der String leer ist. Ist dies der Fall wird -1 zurückgegeben, ansonsten wird der String erst zu einer Float-Zahl gecastet und anschließend zu einem Integer, um so eine sinnvolle Rundung vorzunehmen."
   ]
  },
  {
   "cell_type": "code",
   "execution_count": 6,
   "metadata": {
    "collapsed": true
   },
   "outputs": [],
   "source": [
    "def getAge(age):\n",
    "    if age == '':\n",
    "        return -1\n",
    "    else:\n",
    "        return int(float(age))"
   ]
  },
  {
   "cell_type": "markdown",
   "metadata": {},
   "source": [
    "**getAgeClass**\n",
    "\n",
    "Die Funktion getAgeClass bekommt eine Integer-Zahl (age) übergeben und ordnet diese Zahl einer vordefinierten Klasse zu. Die Klassen sind dabei wie folgt eingeteilt: \n",
    "* 'unknown': age == -1\n",
    "* 'child': age >= 0 and age <= 15\n",
    "* 'young person': age > 15 and age <= 23\n",
    "* 'young adult': age > 23 and age <= 36\n",
    "* 'adult': age > 36 and age <= 54\n",
    "* 'old adult': age > 54 and age <= 63\n",
    "* 'old person': age > 63\n",
    "* alles was keiner dieser Klassen zugeordnet werden kann ist 'undefined'\n",
    "\n",
    "Um die Klassen sinnvoll festlegen zu können, wurden als erstes alle Alters-Daten in der Rohform und nach dem Casting zum Interger graphisch visualisiert. "
   ]
  },
  {
   "cell_type": "code",
   "execution_count": 7,
   "metadata": {
    "collapsed": true
   },
   "outputs": [],
   "source": [
    "def getAgeClass(age):\n",
    "    if age == -1:\n",
    "        return 'unknown'\n",
    "    elif age >= 0 and age <= 15:\n",
    "        return 'child'\n",
    "    elif age > 15 and age <= 23:\n",
    "        return 'young person'\n",
    "    elif age > 23 and age <= 36:\n",
    "        return 'young adult'\n",
    "    elif age > 36 and age <= 54:\n",
    "        return 'adult'\n",
    "    elif age > 54 and age <= 63:\n",
    "        return 'old adult'\n",
    "    elif age > 63:\n",
    "        return 'old person'\n",
    "    else:\n",
    "        return 'undefined'"
   ]
  },
  {
   "cell_type": "markdown",
   "metadata": {},
   "source": [
    "**getTicketPrefix**\n",
    "\n",
    "Die Funktion getTicketPrefix bekommt einen String (ticket) übergeben und parst aus diesem das Prefix heraus. Das Perfix definiert sich dabei als der Teil, der vor der eigentlichen Ticket-Nummer steht. Sollte der String leer sein oder nur aus der Zeichenkette 'LINE' bestehen, wird beim ersten Fall 'unknown' und beim zweiten Fall 'LINE' zurückgegeben. Ansonsten werden Sonderzeichen wie Punkte, Leerzeichen und Back-Slashes aus dem String heraus geparst. Der resultierende String wird zurückgegeben, außer er ist leer, dann wird 'none' zurückgegeben."
   ]
  },
  {
   "cell_type": "code",
   "execution_count": 8,
   "metadata": {
    "collapsed": false
   },
   "outputs": [],
   "source": [
    "def getTicketPrefix(ticket):\n",
    "    if ticket == '':\n",
    "        return 'unknown'\n",
    "    else:\n",
    "        if ticket == 'LINE':\n",
    "            return ticket\n",
    "        else:\n",
    "            ticket = ticket.upper()\n",
    "            ticket = re.sub(r\"[0-9]*$\", \"\", ticket)\n",
    "            ticket = re.sub(r\"\\.\", \"\", ticket)\n",
    "            ticket = re.sub(r\"\\s*\", \"\", ticket)\n",
    "            ticket = re.sub(r\"\\/*\", \"\", ticket)\n",
    "            if ticket != '':\n",
    "                return ticket\n",
    "            else:\n",
    "                return 'none'"
   ]
  },
  {
   "cell_type": "markdown",
   "metadata": {},
   "source": [
    "#### getFare\n",
    "Die Funktion getFare bekommt einen String (fare) übergeben und prüft, ob der String leer ist. Ist dies der Fall wird -1 zurückgegeben, ansonsten wird der String erst zu einer Float-Zahl und anschließend zu einem Integer gecastet, um so eine sinnvolle Rundung vorzunehmen."
   ]
  },
  {
   "cell_type": "code",
   "execution_count": 9,
   "metadata": {
    "collapsed": true
   },
   "outputs": [],
   "source": [
    "def getFare(fare):\n",
    "    if fare == '':\n",
    "        return -1\n",
    "    else:\n",
    "        return int(float(fare))"
   ]
  },
  {
   "cell_type": "markdown",
   "metadata": {},
   "source": [
    "**getFareClass**\n",
    "\n",
    "Die Funktion getFareClass bekommt eine Integer-Zahl (fare) übergeben und ordnet diese Zahl einer vordefinierten Klasse zu. Die Klassen sind dabei wie folgt eingeteilt:\n",
    "* 'unknown': age == -1\n",
    "* 'cheap': fare >= 0 and fare <= 10\n",
    "* 'economical': fare > 10 and fare <= 26\n",
    "* 'normal': fare > 26 and fare <= 50\n",
    "* 'expensive': fare > 50 and fare <= 79\n",
    "* 'first class': fare > 79\n",
    "* alles was keiner dieser Klassen zugeordnet werden kann ist 'undefined'\n",
    "\n",
    "Um die Klassen sinnvoll festlegen zu können, wurden als erstes alle Fare-Daten in der Rohform und nach dem Casting zum Interger graphisch visualisiert."
   ]
  },
  {
   "cell_type": "code",
   "execution_count": 10,
   "metadata": {
    "collapsed": true
   },
   "outputs": [],
   "source": [
    "def getFareClass(fare):\n",
    "    if fare == -1:\n",
    "        return 'unknown'\n",
    "    elif fare >= 0 and fare <= 10:\n",
    "        return 'cheap'\n",
    "    elif fare > 10 and fare <= 26:\n",
    "        return 'economical'\n",
    "    elif fare > 26 and fare <= 50:\n",
    "        return 'normal'\n",
    "    elif fare > 50 and fare <= 79:\n",
    "        return 'expensive'\n",
    "    elif fare > 79:\n",
    "        return 'first class'\n",
    "    else:\n",
    "        return 'undefined'"
   ]
  },
  {
   "cell_type": "markdown",
   "metadata": {},
   "source": [
    "**getCabinPrefix**\n",
    "\n",
    "Die Funktion getCabinPrefix bekommt einen String (cabin) übergeben und parst aus diesem das Prefix heraus. Das Perfix definiert sich dabei als der Teil, der vor der eigentlichen Kabinien-Nummer steht. Sollte der String leer sein, wird 'unknown' zurückgegeben. Ansonsten werden alle Leerzeichen und alle Zahlen, die am Ende stehen, heraus geparst. Der resultierende String wird zurückgegeben, außer er ist leer, dann wird 'none' zurückgegeben."
   ]
  },
  {
   "cell_type": "code",
   "execution_count": 11,
   "metadata": {
    "collapsed": true
   },
   "outputs": [],
   "source": [
    "def getCabinPrefix(cabin):\n",
    "    if cabin == '':\n",
    "        return 'unknown'\n",
    "    else:\n",
    "        cabin = re.sub(r\"\\s*\", \"\", cabin)\n",
    "        cabin = re.sub(r\"[0-9]*$\", \"\", cabin)\n",
    "        if cabin != '':\n",
    "            return cabin\n",
    "        else:\n",
    "            return 'none'"
   ]
  },
  {
   "cell_type": "markdown",
   "metadata": {
    "collapsed": true
   },
   "source": [
    "**initTicketNumberDf**\n",
    "\n",
    "Die Funktion initTicketNumberDf erzeugt ein Dataframe mit allen bekannten Ticket-Nummern (ohne Prefix, das wird zuvor raus geparst) und gibt dieses zurück."
   ]
  },
  {
   "cell_type": "code",
   "execution_count": 12,
   "metadata": {
    "collapsed": true
   },
   "outputs": [],
   "source": [
    "def initTicketNumberDf():\n",
    "    arr = []\n",
    "    with open('train.csv') as csvfile: \n",
    "        csv_dict = csv.DictReader(csvfile, delimiter=',', quotechar='\"')\n",
    "        ([arr.append(row['Ticket']) for row in csv_dict])\n",
    "    \n",
    "    regex_alp = re.compile(r\"[a-zA-Z]*\", re.IGNORECASE)\n",
    "    regex_pun = re.compile(r\"\\.\", re.IGNORECASE)\n",
    "    regex_sla = re.compile(r\"\\/\", re.IGNORECASE)\n",
    "    regex_num = re.compile(r\"^[0-9]* \", re.IGNORECASE)\n",
    "    regex_spa = re.compile(r\"\\s*\", re.IGNORECASE)\n",
    "    \n",
    "    new_arr = []\n",
    "    for row in arr: \n",
    "        tmp_row = regex_alp.sub(\"\", row)\n",
    "        tmp_row = regex_pun.sub(\"\", tmp_row)\n",
    "        tmp_row = regex_sla.sub(\"\", tmp_row)\n",
    "        tmp_row = regex_num.sub(\"\", tmp_row)\n",
    "        tmp_row = regex_spa.sub(\"\", tmp_row)\n",
    "        if tmp_row != '':\n",
    "            new_arr.append(tmp_row)\n",
    "    \n",
    "\n",
    "    df = pd.DataFrame(new_arr)\n",
    "    df = df.apply(pd.value_counts)\n",
    "    return df"
   ]
  },
  {
   "cell_type": "markdown",
   "metadata": {},
   "source": [
    "**isSingleTicketNumber**\n",
    "\n",
    "Die Funktion isSingleTicketNumber bekommt ein String (ticket) übergeben, ist dieser String leer, wird 'unknown' zurück gegeben, ansonsten wird die Ticket-Nummer aus dem Ticket geparst. Anschließend wird in dem ebenfalls übergebenen DataFrame ticket_number_df geguckt, ob die Nummer bereits existiert oder nicht. Jenachdem wird True oder False zurückgegeben. Sollte nach dem Parsen nur noch ein leerer String übrig sein, so wird 'none' zurückgegeben "
   ]
  },
  {
   "cell_type": "code",
   "execution_count": 13,
   "metadata": {
    "collapsed": true
   },
   "outputs": [],
   "source": [
    "def isSingleTicketNumber(ticket, ticket_number_df):\n",
    "    if ticket == '':\n",
    "        return 'unknown'\n",
    "    else:\n",
    "        ticket = re.sub(r\"[a-zA-Z]*\", \"\", ticket)\n",
    "        ticket = re.sub(r\"\\.\", \"\", ticket)\n",
    "        ticket = re.sub(r\"\\/\", \"\", ticket)\n",
    "        ticket = re.sub(r\"^[0-9]* \", \"\", ticket)\n",
    "        ticket = re.sub(r\"\\s*\", \"\", ticket)\n",
    "        if ticket != '':\n",
    "            return (int((ticket_number_df.loc[ticket, :])[0]) == 1)\n",
    "        else:\n",
    "            return 'none' "
   ]
  },
  {
   "cell_type": "markdown",
   "metadata": {},
   "source": [
    "### Plots zur Visualisierung der extrahierten Features"
   ]
  },
  {
   "cell_type": "markdown",
   "metadata": {},
   "source": [
    "Die folgeneden Plots sind dazu da, um sich ein Bild darüber zu machen, wie entscheidend ein bestimmtes Feature ist, wenn es darum geht, ob ein Passagier überlebt hat oder nicht. Bei der Bearbeitung der Aufgabe, wurd bei der Feature-Extraktion verschiedenes ausprobiert und anschließend durch die Plots geprüft.\n",
    "\n",
    "Die Plots sind dabei so aufgebaut, dass an der x-Achse alle Ausprägungen eines Features zu finden sind. Für jede Ausprägung eines Features gibt es dann jeweils zwei Balken: Der blaue Balken für die Pasagiere, die die Auspägung hatten und nicht überlebt haben und der orange Balken für die Pasagiere, die die Auspägung hatten und überlebt haben. Die y-Achse gibt an, wie viele Pasagiere mit einer bestimmten Ausprägung jeweils überlebt oder nicht überlebt haben."
   ]
  },
  {
   "cell_type": "markdown",
   "metadata": {},
   "source": [
    "**Vorbereitung**\n",
    "der beiden Datensätze survived und not_survived, welche einemal alle überlebenden Passagiere und einmal alle nicht überlebenden Passagiere beinhalten."
   ]
  },
  {
   "cell_type": "code",
   "execution_count": 14,
   "metadata": {
    "collapsed": false
   },
   "outputs": [],
   "source": [
    "train_dict = csv.DictReader(open('train.csv', 'r'))\n",
    "train_df = DataFrame([features(p, True) for p in train_dict])\n",
    "\n",
    "survived = train_df.query('Class==1')\n",
    "not_survived =  train_df.query('Class==0')"
   ]
  },
  {
   "cell_type": "markdown",
   "metadata": {},
   "source": [
    "**Pclass**-Balken-Diagramm"
   ]
  },
  {
   "cell_type": "code",
   "execution_count": 15,
   "metadata": {
    "collapsed": false
   },
   "outputs": [
    {
     "data": {
      "text/plain": [
       "<matplotlib.legend.Legend at 0x1125db6a0>"
      ]
     },
     "execution_count": 15,
     "metadata": {},
     "output_type": "execute_result"
    },
    {
     "data": {
      "image/png": "[encoded data removed]",
      "text/plain": [
       "<matplotlib.figure.Figure at 0x1125db748>"
      ]
     },
     "metadata": {},
     "output_type": "display_data"
    }
   ],
   "source": [
    "x = DataFrame({\"Survived\": Series(survived.groupby(['Pclass']).size()), \"NotSurvived\": Series(not_survived.groupby(['Pclass']).size())})\n",
    "ax = x.plot(kind='bar')\n",
    "patches, labels = ax.get_legend_handles_labels()\n",
    "ax.legend(patches, labels, loc='best')"
   ]
  },
  {
   "cell_type": "markdown",
   "metadata": {},
   "source": [
    "**Name**"
   ]
  },
  {
   "cell_type": "markdown",
   "metadata": {},
   "source": [
    "**Title**-Balken-Diagramm"
   ]
  },
  {
   "cell_type": "code",
   "execution_count": 16,
   "metadata": {
    "collapsed": false
   },
   "outputs": [
    {
     "data": {
      "text/plain": [
       "<matplotlib.legend.Legend at 0x114b9d128>"
      ]
     },
     "execution_count": 16,
     "metadata": {},
     "output_type": "execute_result"
    },
    {
     "data": {
      "image/png": "[encoded data removed]",
      "text/plain": [
       "<matplotlib.figure.Figure at 0x114bf8e48>"
      ]
     },
     "metadata": {},
     "output_type": "display_data"
    }
   ],
   "source": [
    "x = DataFrame({\"Survived\": Series(survived.groupby(['Title']).size()), \"NotSurvived\": Series(not_survived.groupby(['Title']).size())})\n",
    "ax = x.plot(kind='bar')\n",
    "patches, labels = ax.get_legend_handles_labels()\n",
    "ax.legend(patches, labels, loc='best')"
   ]
  },
  {
   "cell_type": "markdown",
   "metadata": {},
   "source": [
    "**Rev**-Balken-Diagramm"
   ]
  },
  {
   "cell_type": "code",
   "execution_count": 17,
   "metadata": {
    "collapsed": false
   },
   "outputs": [
    {
     "data": {
      "text/plain": [
       "<matplotlib.legend.Legend at 0x114c0e358>"
      ]
     },
     "execution_count": 17,
     "metadata": {},
     "output_type": "execute_result"
    },
    {
     "data": {
      "image/png": "[encoded data removed]",
      "text/plain": [
       "<matplotlib.figure.Figure at 0x114da6780>"
      ]
     },
     "metadata": {},
     "output_type": "display_data"
    }
   ],
   "source": [
    "x = DataFrame({\"Survived\": Series(survived.groupby(['Rev']).size()), \"NotSurvived\": Series(not_survived.groupby(['Rev']).size())})\n",
    "ax = x.plot(kind='bar')\n",
    "patches, labels = ax.get_legend_handles_labels()\n",
    "ax.legend(patches, labels, loc='best')"
   ]
  },
  {
   "cell_type": "markdown",
   "metadata": {},
   "source": [
    "**Jr**-Balken-Diagramm"
   ]
  },
  {
   "cell_type": "code",
   "execution_count": 18,
   "metadata": {
    "collapsed": false
   },
   "outputs": [
    {
     "data": {
      "text/plain": [
       "<matplotlib.legend.Legend at 0x114b8d668>"
      ]
     },
     "execution_count": 18,
     "metadata": {},
     "output_type": "execute_result"
    },
    {
     "data": {
      "image/png": "[encoded data removed]",
      "text/plain": [
       "<matplotlib.figure.Figure at 0x114ee7550>"
      ]
     },
     "metadata": {},
     "output_type": "display_data"
    }
   ],
   "source": [
    "x = DataFrame({\"Survived\": Series(survived.groupby(['Jr']).size()), \"NotSurvived\": Series(not_survived.groupby(['Jr']).size())})\n",
    "ax = x.plot(kind='bar')\n",
    "patches, labels = ax.get_legend_handles_labels()\n",
    "ax.legend(patches, labels, loc='best')"
   ]
  },
  {
   "cell_type": "markdown",
   "metadata": {},
   "source": [
    "**Sex**-Balken-Diagramm"
   ]
  },
  {
   "cell_type": "code",
   "execution_count": 19,
   "metadata": {
    "collapsed": false
   },
   "outputs": [
    {
     "data": {
      "text/plain": [
       "<matplotlib.legend.Legend at 0x1150451d0>"
      ]
     },
     "execution_count": 19,
     "metadata": {},
     "output_type": "execute_result"
    },
    {
     "data": {
      "image/png": "[encoded data removed]",
      "text/plain": [
       "<matplotlib.figure.Figure at 0x115036a58>"
      ]
     },
     "metadata": {},
     "output_type": "display_data"
    }
   ],
   "source": [
    "x = DataFrame({\"Survived\": Series(survived.groupby(['Sex']).size()), \"NotSurvived\": Series(not_survived.groupby(['Sex']).size())})\n",
    "ax = x.plot(kind='bar')\n",
    "patches, labels = ax.get_legend_handles_labels()\n",
    "ax.legend(patches, labels, loc='best')"
   ]
  },
  {
   "cell_type": "markdown",
   "metadata": {},
   "source": [
    "**Age**-Balken-Diagramm"
   ]
  },
  {
   "cell_type": "code",
   "execution_count": 20,
   "metadata": {
    "collapsed": false
   },
   "outputs": [
    {
     "data": {
      "text/plain": [
       "<matplotlib.legend.Legend at 0x115094358>"
      ]
     },
     "execution_count": 20,
     "metadata": {},
     "output_type": "execute_result"
    },
    {
     "data": {
      "image/png": "[encoded data removed]",
      "text/plain": [
       "<matplotlib.figure.Figure at 0x11508ee48>"
      ]
     },
     "metadata": {},
     "output_type": "display_data"
    }
   ],
   "source": [
    "x = DataFrame({\"Survived\": Series(survived.groupby(['Age']).size()), \"NotSurvived\": Series(not_survived.groupby(['Age']).size())})\n",
    "ax = x.plot(kind='bar')\n",
    "patches, labels = ax.get_legend_handles_labels()\n",
    "ax.legend(patches, labels, loc='best')"
   ]
  },
  {
   "cell_type": "markdown",
   "metadata": {},
   "source": [
    "**SibSp**-Balken-Diagramm"
   ]
  },
  {
   "cell_type": "code",
   "execution_count": 21,
   "metadata": {
    "collapsed": false
   },
   "outputs": [
    {
     "data": {
      "text/plain": [
       "<matplotlib.legend.Legend at 0x1151c1dd8>"
      ]
     },
     "execution_count": 21,
     "metadata": {},
     "output_type": "execute_result"
    },
    {
     "data": {
      "image/png": "[encoded data removed]",
      "text/plain": [
       "<matplotlib.figure.Figure at 0x115301128>"
      ]
     },
     "metadata": {},
     "output_type": "display_data"
    }
   ],
   "source": [
    "x = DataFrame({\"Survived\": Series(survived.groupby(['SibSp']).size()), \"NotSurvived\": Series(not_survived.groupby(['SibSp']).size())})\n",
    "ax = x.plot(kind='bar')\n",
    "patches, labels = ax.get_legend_handles_labels()\n",
    "ax.legend(patches, labels, loc='best')"
   ]
  },
  {
   "cell_type": "markdown",
   "metadata": {},
   "source": [
    "**Parch**-Balken-Diagramm"
   ]
  },
  {
   "cell_type": "code",
   "execution_count": 22,
   "metadata": {
    "collapsed": false
   },
   "outputs": [
    {
     "data": {
      "text/plain": [
       "<matplotlib.legend.Legend at 0x1153352b0>"
      ]
     },
     "execution_count": 22,
     "metadata": {},
     "output_type": "execute_result"
    },
    {
     "data": {
      "image/png": "[encoded data removed]",
      "text/plain": [
       "<matplotlib.figure.Figure at 0x115335f28>"
      ]
     },
     "metadata": {},
     "output_type": "display_data"
    }
   ],
   "source": [
    "x = DataFrame({\"Survived\": Series(survived.groupby(['Parch']).size()), \"NotSurvived\": Series(not_survived.groupby(['Parch']).size())})\n",
    "ax = x.plot(kind='bar')\n",
    "patches, labels = ax.get_legend_handles_labels()\n",
    "ax.legend(patches, labels, loc='best')"
   ]
  },
  {
   "cell_type": "markdown",
   "metadata": {},
   "source": [
    "**Ticket**"
   ]
  },
  {
   "cell_type": "markdown",
   "metadata": {},
   "source": [
    "**SingleTicketNumber**-Balken-Diagramm"
   ]
  },
  {
   "cell_type": "code",
   "execution_count": 23,
   "metadata": {
    "collapsed": true
   },
   "outputs": [],
   "source": [
    "#x = DataFrame({\"Survived\": Series(survived.groupby(['SingleTicketNumber']).size()), \"NotSurvived\": Series(not_survived.groupby(['SingleTicketNumber']).size())})\n",
    "#ax = x.plot(kind='bar')\n",
    "#patches, labels = ax.get_legend_handles_labels()\n",
    "#ax.legend(patches, labels, loc='best')"
   ]
  },
  {
   "cell_type": "markdown",
   "metadata": {},
   "source": [
    "**TicketPrefix**-Balken-Diagramm"
   ]
  },
  {
   "cell_type": "code",
   "execution_count": 24,
   "metadata": {
    "collapsed": false
   },
   "outputs": [
    {
     "data": {
      "text/plain": [
       "<matplotlib.legend.Legend at 0x115616748>"
      ]
     },
     "execution_count": 24,
     "metadata": {},
     "output_type": "execute_result"
    },
    {
     "data": {
      "image/png": "[encoded data removed]",
      "text/plain": [
       "<matplotlib.figure.Figure at 0x114db8c88>"
      ]
     },
     "metadata": {},
     "output_type": "display_data"
    }
   ],
   "source": [
    "x = DataFrame({\"Survived\": Series(survived.groupby(['TicketPrefix']).size()), \"NotSurvived\": Series(not_survived.groupby(['TicketPrefix']).size())})\n",
    "ax = x.plot(kind='bar')\n",
    "patches, labels = ax.get_legend_handles_labels()\n",
    "ax.legend(patches, labels, loc='best')"
   ]
  },
  {
   "cell_type": "markdown",
   "metadata": {},
   "source": [
    "**Fare**-Balken-Diagramm"
   ]
  },
  {
   "cell_type": "code",
   "execution_count": 25,
   "metadata": {
    "collapsed": false
   },
   "outputs": [
    {
     "data": {
      "text/plain": [
       "<matplotlib.legend.Legend at 0x115727a58>"
      ]
     },
     "execution_count": 25,
     "metadata": {},
     "output_type": "execute_result"
    },
    {
     "data": {
      "image/png": "[encoded data removed]",
      "text/plain": [
       "<matplotlib.figure.Figure at 0x115727be0>"
      ]
     },
     "metadata": {},
     "output_type": "display_data"
    }
   ],
   "source": [
    "x = DataFrame({\"Survived\": Series(survived.groupby(['Fare']).size()), \"NotSurvived\": Series(not_survived.groupby(['Fare']).size())})\n",
    "ax = x.plot(kind='bar')\n",
    "patches, labels = ax.get_legend_handles_labels()\n",
    "ax.legend(patches, labels, loc='best')"
   ]
  },
  {
   "cell_type": "markdown",
   "metadata": {},
   "source": [
    "**Cabin**-Balken-Diagramm"
   ]
  },
  {
   "cell_type": "code",
   "execution_count": 26,
   "metadata": {
    "collapsed": false
   },
   "outputs": [
    {
     "data": {
      "text/plain": [
       "<matplotlib.legend.Legend at 0x115991898>"
      ]
     },
     "execution_count": 26,
     "metadata": {},
     "output_type": "execute_result"
    },
    {
     "data": {
      "image/png": "[encoded data removed]",
      "text/plain": [
       "<matplotlib.figure.Figure at 0x115991860>"
      ]
     },
     "metadata": {},
     "output_type": "display_data"
    }
   ],
   "source": [
    "x = DataFrame({\"Survived\": Series(survived.groupby(['Cabin']).size()), \"NotSurvived\": Series(not_survived.groupby(['Cabin']).size())})\n",
    "ax = x.plot(kind='bar')\n",
    "patches, labels = ax.get_legend_handles_labels()\n",
    "ax.legend(patches, labels, loc='best')"
   ]
  },
  {
   "cell_type": "markdown",
   "metadata": {},
   "source": [
    "**Embarked**-Balken-Diagramm"
   ]
  },
  {
   "cell_type": "code",
   "execution_count": 27,
   "metadata": {
    "collapsed": false
   },
   "outputs": [
    {
     "data": {
      "text/plain": [
       "<matplotlib.legend.Legend at 0x115a292e8>"
      ]
     },
     "execution_count": 27,
     "metadata": {},
     "output_type": "execute_result"
    },
    {
     "data": {
      "image/png": "[encoded data removed]",
      "text/plain": [
       "<matplotlib.figure.Figure at 0x115a290f0>"
      ]
     },
     "metadata": {},
     "output_type": "display_data"
    }
   ],
   "source": [
    "x = DataFrame({\"Survived\": Series(survived.groupby(['Embarked']).size()), \"NotSurvived\": Series(not_survived.groupby(['Embarked']).size())})\n",
    "ax = x.plot(kind='bar')\n",
    "patches, labels = ax.get_legend_handles_labels()\n",
    "ax.legend(patches, labels, loc='best')"
   ]
  },
  {
   "cell_type": "markdown",
   "metadata": {},
   "source": [
    "## Klassifizierung"
   ]
  },
  {
   "cell_type": "markdown",
   "metadata": {},
   "source": [
    "Im Folgenden wird ein Naive-Bayes-Klassifizierer implementiert, der sich mittels eines Trainings-Datensatzes trainieren lässt und anschließend in der Lage ist, nicht bekannte Daten zu klassifizieren. Als Algorithmus wird hier das Bayes' Theorem verwendet."
   ]
  },
  {
   "cell_type": "markdown",
   "metadata": {},
   "source": [
    "### Bayes' Theorem\n",
    "\n",
    "Naive-Bayes-Klassifizierer werden gerne im Bereich des Machine-Learning benutz und gehoren dort zu der Familie der eher einfachen wahrscheinlichkeitstheoretisch Klassifizierern. Der Klassifizierer baut dabei auch das Bayes' Theorem auf. Das Bayes' Theorem lässt sich wie folgt als Formel darstellen:\n",
    "$$p(c|x) = \\frac{p(x|c) * p(c)}{p(x)}$$\n",
    "Wobei sich p(x|c) wie folgt berechnet:\n",
    "$$p(x|c) = \\prod_{i=1}^{n} p(x_i|c)$$\n",
    "\n",
    "Zu beachten ist hierbei, dass davon ausgegenagen wird, dass die einzelenen Features (in der Formel x_i) von einander unabhägig sind."
   ]
  },
  {
   "cell_type": "markdown",
   "metadata": {},
   "source": [
    "### Naive-Bayes-Klassifizierer\n",
    "\n",
    "Im folgenden ist eine Klasse implementiert, welche einen Naive-Bayes-Klassifizierer representiert. Dabei wurde die zuvor erwähnte Fromel verwendet, wobei noch ein Smoothing hinzugefügt wurde und mit dem Logarithmus gerechnet wurde, um zu kleine Werte und somit ein Floating-Point-Underflow zu vermeiden. Da man zudem die Teilung duch p(x) weglassen kann, da diese bei allen Berechnungen gleichermaßen passiert, ergibt sich die folgende Formel:\n",
    "\n",
    "$$p(c|x) = p(x|c) * p(c)$$\n",
    "\n",
    "Wobei sich p(x|c) wie folgt berechnet:\n",
    "\n",
    "$$p(x|c) = \\sum_{i=1}^{n} log(p(x_i|c))$$\n",
    "\n",
    "und wobei sich p(x_i|c) wie folgt berechnet:\n",
    "\n",
    "$$p(x_i|c) = \\frac{p(x_i \\bigwedge c) + 1}{p(c) + m}$$\n",
    "\n",
    "Diese Formel ist so auch in dem Klassifizierer implementiert. Folgende Methoden sind in der Klasse NaiveBayesClassifier enthalten:\n",
    "1. **init**: Macht lediglich eine Konsolen-Ausgabe, um zu zeigen, dass ein Instanz erzeugt wurde\n",
    "2. **train**: Trainiert den Klassifizierer. Dabei wird zum einen der übergebene Trainigs-Datensatz abgespeichert und verschiedene Werte vorberechnet. Vorberechente Werte sind: ein Array, besthend aus allen verschiedenen Klassen, die Anzahl der Instanzen mit einer bestimmten Klasse, die Wahrscheinlichkeiten, das eine Instanz eine bestimmte Klasse hat und zu jedem, unterschidlichen Feature, die Anzahl von unterschiedlichen Ausprägungen eines Features\n",
    "3. **classify**: Klassifiziert Instanzen mit hilfe des zuvor dargestellten Bayes' Theorems. Rückgabewert ist die Klasse, mit der höchsten Wahrscheinlichkeit\n",
    "4. **accuracy**: Berechnet den Accuracy-Wert des Klassifizierers\n",
    "5. **recall**: Berechnet den Recall-Wert des Klassifizierers\n",
    "6. **fpRate**: Berechnet die FP-Rate des Klassifizierers\n",
    "7. **precision**: Berechnet den Precision-Wert des Klassifizierers\n",
    "8. **f1Score**: Berechnet den F1-Score des Klassifizierers\n",
    "\n"
   ]
  },
  {
   "cell_type": "code",
   "execution_count": 28,
   "metadata": {
    "collapsed": false
   },
   "outputs": [],
   "source": [
    "class NaiveBayesClassifier:\n",
    "    \n",
    "    def __init__(self):\n",
    "            print('New Naive Bayes Classifier initalized...')\n",
    "            \n",
    "    def train(self, train_set):\n",
    "        self.train_set = DataFrame(train_set)\n",
    "        \n",
    "        self.classes = np.unique(self.train_set['Class'].values.ravel())\n",
    "        \n",
    "        self.all_instances_with_class = {}\n",
    "        self.probability_of_classes = {}\n",
    "        for class_ in self.classes:\n",
    "            self.all_instances_with_class[class_] = self.train_set.groupby(['Class']).size().loc[class_]\n",
    "            self.probability_of_classes[class_] = self.all_instances_with_class[class_] / self.train_set.shape[0]\n",
    "        \n",
    "        self.number_of_different_forms_of_features = {}\n",
    "        for feature in self.train_set.keys():\n",
    "            self.number_of_different_forms_of_features[feature] = self.train_set.groupby([feature]).size().count()\n",
    "\n",
    "        \n",
    "    def classify(self, instance):\n",
    "        probabilities_of_classes_provided_by_features = {}\n",
    "        \n",
    "        for class_ in self.classes:\n",
    "            # Frage: Sollte nicht auch von self.probability_of_classes[class_] der Logarithmus genommen werden?\n",
    "            probability_of_class_provided_by_features = log(self.probability_of_classes[class_])\n",
    "            probability_of_features_provided_by_class = 0\n",
    "            \n",
    "            for feature in instance:\n",
    "                if feature != 'Class' :\n",
    "                    try:\n",
    "                        all_instances_with_class_and_feature = self.train_set.groupby(['Class', feature]).size().loc[class_].loc[instance[feature]]\n",
    "                    except KeyError:\n",
    "                        all_instances_with_class_and_feature = 0\n",
    "                \n",
    "                    probability_of_features_provided_by_class += log((all_instances_with_class_and_feature + 1) / (self.all_instances_with_class[class_] + self.number_of_different_forms_of_features[feature]))\n",
    "            \n",
    "            probability_of_class_provided_by_features += probability_of_features_provided_by_class\n",
    "            probabilities_of_classes_provided_by_features[class_] = probability_of_class_provided_by_features\n",
    "        \n",
    "        best_class = max(probabilities_of_classes_provided_by_features, key=probabilities_of_classes_provided_by_features.get)\n",
    "            \n",
    "        return best_class\n",
    "\n",
    "    def accuracy(self, test_set):\n",
    "        tp_tn = 0\n",
    "        for instance in test_set:\n",
    "            result = self.classify(instance)\n",
    "            if result == instance['Class']:\n",
    "                tp_tn += 1\n",
    "        return tp_tn / DataFrame(test_set).shape[0]\n",
    "    \n",
    "    def recall(self, test_set):\n",
    "        tp = 0\n",
    "        for instance in test_set:\n",
    "            result = self.classify(instance)\n",
    "            if result == instance['Class'] and instance['Class'] == 1:\n",
    "                tp += 1\n",
    "        return tp / DataFrame(test_set).groupby(['Class']).size().loc[1]\n",
    "    \n",
    "    def fpRate(self, test_set):\n",
    "        fp = 0\n",
    "        for instance in test_set:\n",
    "            result = self.classify(instance)\n",
    "            if result != instance['Class'] and instance['Class'] == 0:\n",
    "                fp += 1\n",
    "        return fp / DataFrame(test_set).groupby(['Class']).size().loc[0]\n",
    "    \n",
    "    def precision(self, test_set):\n",
    "        tp = 0\n",
    "        fp = 0\n",
    "        for instance in test_set:\n",
    "            result = self.classify(instance)\n",
    "            if result == instance['Class'] and instance['Class'] == 1:\n",
    "                tp += 1\n",
    "            elif result != instance['Class'] and instance['Class'] == 0:\n",
    "                fp += 1\n",
    "        return tp /(tp + fp)\n",
    "    \n",
    "    def f1Score(self, test_set):\n",
    "        precision = self.precision(test_set)\n",
    "        recall = self.recall(test_set)\n",
    "        return (2 * precision * recall)/(precision + recall)"
   ]
  },
  {
   "cell_type": "markdown",
   "metadata": {},
   "source": [
    "### Der Klassifizierer in Kombination mit der Feature-Extraktions-Methode features"
   ]
  },
  {
   "cell_type": "markdown",
   "metadata": {},
   "source": [
    "1. **Trainieren und Testen**"
   ]
  },
  {
   "cell_type": "markdown",
   "metadata": {},
   "source": [
    "1.1. **Vorberitung der Datensätze**\n",
    "\n",
    "Als erstes werden der Trainings- und Development-Datensatz vorbereitet. Der Trainings-Datensatz soll dabei vom Development-Datensatz verschiedene Daten beinhalten, um so auch einschätzen zu können, ob der Klassifizierer gut funktioniert. Größe des Development-Datensatz soll bei min. 100 Instanzen liegen."
   ]
  },
  {
   "cell_type": "code",
   "execution_count": 29,
   "metadata": {
    "collapsed": false
   },
   "outputs": [],
   "source": [
    "train_dict = csv.DictReader(open('train.csv', 'r'))\n",
    "train_set = ([features(p, True) for p in train_dict])\n",
    "size = int(len(train_set) * 0.12)\n",
    "train_set, dev_set = train_set[size:], train_set[:size]"
   ]
  },
  {
   "cell_type": "markdown",
   "metadata": {},
   "source": [
    "1.2. ** Trainieren des Klassifizierers **\n",
    "\n",
    "Als nächstest wird der Klassifizierer mit dem Trainings-Datensatz trainiert."
   ]
  },
  {
   "cell_type": "code",
   "execution_count": 30,
   "metadata": {
    "collapsed": false
   },
   "outputs": [
    {
     "name": "stdout",
     "output_type": "stream",
     "text": [
      "New Naive Bayes Classifier initalized...\n"
     ]
    }
   ],
   "source": [
    "nbc = NaiveBayesClassifier()\n",
    "nbc.train(train_set)"
   ]
  },
  {
   "cell_type": "markdown",
   "metadata": {},
   "source": [
    "1.3. ** Testen des Klassifizierers **\n",
    "\n",
    "Zu guter Letzt wird der Klassifizierer mit dem Development-Datensatz und folgenden Methoden überprüft:\n",
    "* accuracy\n",
    "* recall\n",
    "* fpRate\n",
    "* precision\n",
    "* f1Score"
   ]
  },
  {
   "cell_type": "code",
   "execution_count": 32,
   "metadata": {
    "collapsed": false
   },
   "outputs": [
    {
     "name": "stdout",
     "output_type": "stream",
     "text": [
      "Accuracy:  0.7169811320754716\n",
      "Recall:  0.634146341463\n",
      "FP-Rate:  0.230769230769\n",
      "Precision:  0.6341463414634146\n",
      "F1-Score:  0.634146341463\n"
     ]
    }
   ],
   "source": [
    "print('Accuracy: ', nbc.accuracy(dev_set))\n",
    "print('Recall: ', nbc.recall(dev_set))\n",
    "print('FP-Rate: ', nbc.fpRate(dev_set))\n",
    "print('Precision: ', nbc.precision(dev_set))\n",
    "print('F1-Score: ', nbc.f1Score(dev_set))"
   ]
  },
  {
   "cell_type": "markdown",
   "metadata": {},
   "source": [
    "2.. ** Klassifizieren von unbekannten Daten **"
   ]
  },
  {
   "cell_type": "markdown",
   "metadata": {},
   "source": [
    "2.1. **Vorberitung der Datensätze**\n",
    "\n",
    "Als erstes werden der Trainings- und Test-Datensatz vorbereitet. Der Trainings-Datensatz wird diesmal komplett (ohne zusäzlichen Development-Datensatz) zum trainieren des Klassifizieres benutzt. Der Test-Datensatz beinhaltet die Daten welche fremd sind und klassifiziert werden sollen."
   ]
  },
  {
   "cell_type": "code",
   "execution_count": 33,
   "metadata": {
    "collapsed": false
   },
   "outputs": [],
   "source": [
    "train_dict = csv.DictReader(open('train.csv', 'r'))\n",
    "train_set = ([features(p, True) for p in train_dict])\n",
    "\n",
    "test_dict = csv.DictReader(open('test.csv', 'r'))"
   ]
  },
  {
   "cell_type": "markdown",
   "metadata": {},
   "source": [
    "2.2. ** Trainieren des Klassifizierers **\n",
    "\n",
    "Als nächstest wird der Klassifizierer mit dem Trainings-Datensatz trainiert."
   ]
  },
  {
   "cell_type": "code",
   "execution_count": 34,
   "metadata": {
    "collapsed": false
   },
   "outputs": [
    {
     "name": "stdout",
     "output_type": "stream",
     "text": [
      "New Naive Bayes Classifier initalized...\n"
     ]
    }
   ],
   "source": [
    "nbc = NaiveBayesClassifier()\n",
    "nbc.train(train_set)"
   ]
  },
  {
   "cell_type": "markdown",
   "metadata": {},
   "source": [
    "2.3 ** Klassifizieren der fremden Daten **\n",
    "\n",
    "Als letztes werden alle Instanzen des Test-Datensatzes klassifiziert und das Ergebnis wird in eine CSV-Datei geschreiben."
   ]
  },
  {
   "cell_type": "code",
   "execution_count": 35,
   "metadata": {
    "collapsed": false
   },
   "outputs": [],
   "source": [
    "with open('submission.csv', 'w', newline='') as csvfile:\n",
    "    writer = csv.writer(csvfile, delimiter=',', quotechar='\"', quoting=csv.QUOTE_MINIMAL)\n",
    "    writer.writerow(['PassengerId', 'Survived'])\n",
    "    \n",
    "    for passanger in test_dict:\n",
    "        passanger_features = features(passanger, False)\n",
    "        class_ = nbc.classify(passanger_features)\n",
    "        writer.writerow([passanger['PassengerId'], str(class_)])"
   ]
  },
  {
   "cell_type": "markdown",
   "metadata": {},
   "source": [
    "### Der Klassifizierer in Kombination mit der Feature-Extraktions-Methode randomFeatures"
   ]
  },
  {
   "cell_type": "markdown",
   "metadata": {},
   "source": [
    "1. **Trainieren und Klassifizieren mittels Ensemble-Klassifizierung**\n",
    "\n",
    "Da es nicht sehr effektiv wäre die Feature-Extraktions-Methode randomFeatures nur für einmaliges Klassifizieren zu benutzen und wahrscheinlich in vielen Fällen zu schlechteren Ergebnissen führen würde, als die Methode features, wird hier eine Art Ensemble-Klassifizierer implementiert. Dabei werden mehrere Klassifizierer verwendet, wobei jeder einzelne eine Instanz auf Grund von unterschiedlichen Features einer Klassse zuordnet. Sofern der Klassifizierer einen höheren Accuracy-Wert als 0.7 hat (eigentlich würden 0.5 reichen, aber es wurde sich hier für einen höheren Wert entscheiden) wird sein Ergebnis, also die Klasse, in das endgültige Ergebnis mit einberechnet. Am Ende wird dann zusammengezählt, wie oft eine bestimmte Klasse ausgewählt wurde und die, die am häufigsten auftaucht wird dann als Endergebnis genommen."
   ]
  },
  {
   "cell_type": "code",
   "execution_count": 38,
   "metadata": {
    "collapsed": false
   },
   "outputs": [],
   "source": [
    "selected_classes_for_instances_from_all_classifiers = []\n",
    "\n",
    "for i in range(100):\n",
    "    \n",
    "    random_number = randint(3,10)\n",
    "    random_numbers = []\n",
    "    for j in range(random_number):\n",
    "        tmp_random_number = randint(0,11)\n",
    "        random_numbers.append(tmp_random_number)\n",
    "    \n",
    "    train_dict = csv.DictReader(open('train.csv', 'r'))\n",
    "    train_set = ([randomFeatures(p, random_numbers, True) for p in train_dict])\n",
    "    size = int(len(train_set) * 0.12)\n",
    "    train_set, dev_set = train_set[size:], train_set[:size]\n",
    "    \n",
    "    nbc = NaiveBayesClassifier()\n",
    "    nbc.train(train_set)\n",
    "    accuracy = nbc.accuracy(dev_set) \n",
    "   \n",
    "    print('With accuracy: ', accuracy)\n",
    "    print('With features:', DataFrame(train_set).keys())\n",
    "    \n",
    "    if accuracy > 0.7:\n",
    "        \n",
    "        train_dict = csv.DictReader(open('train.csv', 'r'))\n",
    "        train_set = ([randomFeatures(p, random_numbers, True) for p in train_dict])\n",
    "        \n",
    "        nbc = NaiveBayesClassifier()\n",
    "        nbc.train(train_set)\n",
    "\n",
    "        test_dict = csv.DictReader(open('test.csv', 'r'))\n",
    "\n",
    "        for instance in test_dict:\n",
    "            instance_features = randomFeatures(instance, random_numbers, False)\n",
    "            selected_classes_for_instances_from_all_classifiers.append({'PassengerId': instance['PassengerId'], 'Class': nbc.classify(instance_features)})\n",
    "            \n",
    "if len(selected_classes_for_instances_from_all_classifiers) > 0:\n",
    "    grouped_and_counted_classes_for_instances = DataFrame(selected_classes_for_instances_from_all_classifiers).groupby(['PassengerId', 'Class']).size()"
   ]
  },
  {
   "cell_type": "markdown",
   "metadata": {},
   "source": [
    "2.. **Speichern des Ergebnisses**\n",
    "\n",
    "Zu guter Letzt wird das Ergbeniss noch im richtigen Format in einem CSV-File gespeichert."
   ]
  },
  {
   "cell_type": "code",
   "execution_count": 37,
   "metadata": {
    "collapsed": false
   },
   "outputs": [],
   "source": [
    "if len(selected_classes_for_instances_from_all_classifiers) > 0:\n",
    "    with open('submission_random_features.csv', 'w', newline='') as csvfile:\n",
    "        writer = csv.writer(csvfile, delimiter=',', quotechar='\"', quoting=csv.QUOTE_MINIMAL)\n",
    "        writer.writerow(['PassengerId', 'Survived'])\n",
    "    \n",
    "        test_dict = csv.DictReader(open('test.csv', 'r'))\n",
    "    \n",
    "        for instance in test_dict:\n",
    "            try:\n",
    "                not_survived = grouped_and_counted_classes_for_instances.loc[instance['PassengerId'], 0]\n",
    "            except Exception:\n",
    "                not_survived = 0\n",
    "            try:\n",
    "                survived = grouped_and_counted_classes_for_instances.loc[instance['PassengerId'], 1]\n",
    "            except Exception:\n",
    "                survived = 0\n",
    "            if not_survived > survived:\n",
    "                writer.writerow([instance['PassengerId'], str(0)])\n",
    "            else:\n",
    "                writer.writerow([instance['PassengerId'], str(1)])"
   ]
  },
  {
   "cell_type": "code",
   "execution_count": null,
   "metadata": {
    "collapsed": true
   },
   "outputs": [],
   "source": []
  }
 ],
 "metadata": {
  "kernelspec": {
   "display_name": "Python 3",
   "language": "python",
   "name": "python3"
  },
  "language_info": {
   "codemirror_mode": {
    "name": "ipython",
    "version": 3
   },
   "file_extension": ".py",
   "mimetype": "text/x-python",
   "name": "python",
   "nbconvert_exporter": "python",
   "pygments_lexer": "ipython3",
   "version": "3.6.0"
  }
 },
 "nbformat": 4,
 "nbformat_minor": 2
}
